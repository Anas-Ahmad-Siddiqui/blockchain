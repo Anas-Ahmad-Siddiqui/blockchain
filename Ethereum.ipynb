{
 "cells": [
  {
   "attachments": {},
   "cell_type": "markdown",
   "metadata": {},
   "source": [
    "# CSE4080 LAB\n",
    "## LAB 1\n",
    "### Ethereum implementation using Python\n",
    "\n",
    "**Name: Anas Ahmad Siddiqui**\n",
    "\n",
    "**Reg. No.: 20BPS1094**"
   ]
  },
  {
   "attachments": {},
   "cell_type": "markdown",
   "metadata": {},
   "source": [
    "The web3 module is imported, and the URL of the Infura node is set to the infra_url variable. The Ethereum address to check the balance of is set to the test_address variable.\n",
    "\n",
    "The code then creates a Web3 instance using the HTTPProvider and the Infura node URL. The is_connected method of the Web3 instance is called to check if the connection is successful.\n",
    "\n",
    "The balance of the Ethereum address is obtained by calling the get_balance method of the Web3 instance and passing the Ethereum address as the parameter. The balance is converted from wei to ether by calling the from_wei method of the Web3 instance and passing the balance and \"ether\" as parameters.\n",
    "\n",
    "The latest block is obtained by calling the get_block method of the Web3 instance and passing \"latest\" as the parameter.\n",
    "\n",
    "A smart contract instance is created by calling the contract method of the Web3 instance and passing the contract's address and ABI as parameters. The total supply of the token is obtained by calling the totalSupply function of the smart contract instance using the call method. The symbol of the token is obtained by calling the symbol function of the smart contract instance using the call method."
   ]
  },
  {
   "cell_type": "code",
   "execution_count": 8,
   "metadata": {},
   "outputs": [
    {
     "name": "stdout",
     "output_type": "stream",
     "text": [
      "isConnected:  False\n"
     ]
    }
   ],
   "source": [
    "# Import the Web3 library\n",
    "from web3 import Web3\n",
    "\n",
    "# Set the Infura URL and the test address\n",
    "infra_url = \"https://mainnet.infura.io/v3/76429c6507214cbeb6e1f2f8b9419bac\"\n",
    "test_address = \"0xC8f9f30653B74087313d5bd5178B50bC5BFA29E5\"\n",
    "\n",
    "# Create a Web3 instance with the Infura URL\n",
    "web3 = Web3(Web3.HTTPProvider(infra_url))\n",
    "\n",
    "# Check if the Web3 instance is connected to the network\n",
    "print(\"isConnected: \", web3.is_connected())\n"
   ]
  },
  {
   "cell_type": "code",
   "execution_count": 9,
   "metadata": {},
   "outputs": [
    {
     "name": "stdout",
     "output_type": "stream",
     "text": [
      "Balance:  0\n",
      "latest block:  AttributeDict({'baseFeePerGas': 26905724992, 'difficulty': 0, 'extraData': HexBytes('0x506f776572656420627920626c6f58726f757465'), 'gasLimit': 30000000, 'gasUsed': 27718363, 'hash': HexBytes('0x7aaab20ae1b7a5e2247e62e3283a69e0ee840b20f31a4966bd8416ae90f35f4d'), 'logsBloom': HexBytes('0xbfba7ff7a9bf5dffff75f16febddea3ff4fa5cf7dfefdf7f34bffb4f7f86aceb55afbbef6ccfefbfee34b46fcb779fddde3feafffffdefa9bf5fed6f737db78cdfd6fddfeffe9f7fbbdf7f3ad3b929bfb9bfff6e5df6fa42ff7bb7e5c9f9e7df86b8967bbf6aafe7bb5fffbf3fe9fe5bf29a9344aff1ddfff65f5cbfb2fdddfdfd3d8b9dfffe5d5dd4df3f7f57fbbf7777ddd37fb3fdbf1afcfffef5ff5d6ff7dfffd9ef7f97eec7cf73ffecbb7f7fdef5f6beddefb6edcaafff0649cb47f4fdffbfb2efb861faff271feb4f17ddfbff6ffddf5b79efb7dffee7ffbf21cfbf3b9b37bfdfb9d8d6b1fbeffe8bd75fca6e9ef9fe98a7def14cc5647df3f88d79c3'), 'miner': '0xeBec795c9c8bBD61FFc14A6662944748F299cAcf', 'mixHash': HexBytes('0x1382da365f886ffb6eee48972413a4f615105e99a99d539d460add52c2a02fcd'), 'nonce': HexBytes('0x0000000000000000'), 'number': 16981396, 'parentHash': HexBytes('0xcc3cc7e253af44901bedeaf928cef3f0c3d8ff5b69b16feecf63a7a651e68a2a'), 'receiptsRoot': HexBytes('0x54e82267f386aee51448332331c539e00bbd46aabbf52ee3501af1aa2da0acec'), 'sha3Uncles': HexBytes('0x1dcc4de8dec75d7aab85b567b6ccd41ad312451b948a7413f0a142fd40d49347'), 'size': 110165, 'stateRoot': HexBytes('0x0269566253658775e92b0844530dab0ebfe96274057681d9fbb46609ec818617'), 'timestamp': 1680683267, 'totalDifficulty': 58750003716598352816469, 'transactions': [HexBytes('0x9d6e57b084ae8584e0b7712ea9f42da9699f87bc14a69589a94a9ab9df7efb07'), HexBytes('0x1712086e2dfb1747197718ed8616fecc28e61259d0a2e6cfb1f51685b5cea3e7'), HexBytes('0x02c735e87ae0f209ad47210632a679c2f3c748965a2ad22e1a7b8736763ff87c'), HexBytes('0x39016c1dcfd0ccb090b3599a27155644bf4ebff3f035b936b50f486a99f4ab39'), HexBytes('0x4bfb7ac989deaeb94bf1ec7e4e3ed58f3300a9b47a6cacce3242ad0f50e1c1f9'), HexBytes('0x8b8faa396d3b477e6a31d5a994c915c62d45632e115f1e1a0e4b53df8cd33b54'), HexBytes('0x0f38c7e3a6bcce6950086ebd33a73e1e6d936de87f1d2d3fb403c0bafd338dcc'), HexBytes('0x7a1d2b9f2c3743ff366ef0f232a60aa42cb59dd99ba9dde398610b3a1bbc93b1'), HexBytes('0xb29ceb73dc21b58d7cb5cd756eef48df84053e694ea69ca7747b7e17fe2f6eb8'), HexBytes('0x8019e737ef52ed431964fe6dcb2484848e05fe301b2df0bd887e292329466666'), HexBytes('0x9310329fae43cf3f33c0c496f26f43b37b40e9cb697a3205504b2d9be00bd7cf'), HexBytes('0x6d0d1166a27e589f4970e5fc71e282632d10cb423cd9190c637fac0363d92356'), HexBytes('0x13f0617697e6f6ccad29031e74f0ec3ac8401662d09657f8a4a996c3a13618e1'), HexBytes('0xc92a3128eebc3264c5ee1b564a7ad0bd6a43a50d6fb7ba41c371ead4bb5164dd'), HexBytes('0x7a59ad1973f4541110adda0da9e09960d97a8d25f6298fa9a23853431da61294'), HexBytes('0xd34c2d8d3b2a2ba43b154a7a59e53428d067c0e7961b9292220a6ec0b19b202d'), HexBytes('0x588c068c67b9dd1d26df32af07a72aa1123a9c7806f76a1b869f02d1da30ad91'), HexBytes('0xaa235df22d7308b214268182924f953c739254b7aa195871e37a52ff834039bd'), HexBytes('0x65f13c3c201986b12e049641952d260e06526a27702b484d974c5e02fc34509c'), HexBytes('0x07f0262da16e9f4f7c0e6be2581c6c7b756016b4b69af450666d5747285dc13b'), HexBytes('0x569e4b163c980d349b2eaf5c8186e5289da2fc4c67a5e0a92e9a23a93df8fe45'), HexBytes('0x12e346366759d1321b7f4917620aeb720250d90a0c9914627b8451b95401e897'), HexBytes('0xeeae643cb43df1904a394f5095efe68a36c3531fb8ce7bdcbd4073327015707c'), HexBytes('0x824dcc3297222fa25b39c1d22e3f165ef3a6033684de596bcc6728777ebca11e'), HexBytes('0x87b85cd83cb6c21a21b8bba0e2bbef7587a4770e9d5449207f1260738644c11b'), HexBytes('0x0d222d7dba5ee9be0a3ada26760111b803090603058aa53e0bb4e621dfe82bc7'), HexBytes('0x5a2a07d99a36f7e10f9307440339a455df0150896acdea225922b6fad8667151'), HexBytes('0x889256eaa836984ae06af3f09f3349c48f1e9dc3b022a405a701061dbe557e21'), HexBytes('0x3111208e11226ea4f2d15b05a334ea0e5d7b1ccc78bda3e0dd6dec8afa8fd875'), HexBytes('0x58a18955d199d1541c2c95b041a66a560e375f05b294f36cd914c97fbbe41c39'), HexBytes('0xc1f782848763c266ee77178c9351b85aa572b765e34af01371fe73636a43fad9'), HexBytes('0x31f40ea605d4502126ab51abdaace3df7e2b9fbc90f4f6bb72ec16af733b87d8'), HexBytes('0x4a089056ef14751f9090ff4eb2d13404c0cb85f641363fe387e4e91d1bf382b9'), HexBytes('0x89fc9d6a671900b2103290536a431181947a0c5a3586bd54cbbcf7465d058447'), HexBytes('0x3d12a4bd8a2dae77fede2882dc950af52018bf4070ba9be083d39feaf23f840b'), HexBytes('0xf7f951c61363053a2256ba04a7f5df56fcf711b2ea81949d02f9c97517c966df'), HexBytes('0x2ee4c3ef993965599d07d88dd32a5d4c830e2d322d7f370946deb56ec25bed53'), HexBytes('0xb4c4b21e17fec3627d97184425e3717dc04225d4f7822a3175b2538e4140a6c2'), HexBytes('0xfc680481353ff13f7bdfcacd5ed5f5ebaa6a3c08208d1986f20ef6a858227f83'), HexBytes('0x5e99ac25a91537a2b8db3fe14a9456424c1e9d70848f3f3c042ad699f25a59c4'), HexBytes('0xfe5fccc217266fad297f04a1fdc8d7ef17977dbc6211286bb56a035f9493aaea'), HexBytes('0xbb97db623a45c7d6d21205c15f45b7b920970f8ece436105d76ab9ed0c938dd5'), HexBytes('0xed50d71d244f8c20124c6c56542274aa1b976ea10cd711c5b9aaa48c953394a0'), HexBytes('0x4c735fcb68c0dca465f1c8d52baa510afa418365dae136ddc8a5dece9ecdb2e4'), HexBytes('0x2ca9a7ec0f6a9b3b1009fd88575f0d65fcfb8bce68afbb77f54febdf6fd70111'), HexBytes('0xe6bf743230c7894bcbd74602f0b6958bec66c446465e80623fb5f5ece936225f'), HexBytes('0xf526068fac80059257c3e10bd87f2383f143e3072becbc3baa5690a5dfd0d5f0'), HexBytes('0x348316ce4c9e0b0e67cba8725804e30933a118bd7f46efafb364a4dca94c3e5e'), HexBytes('0xcd65d6a6e1b448011285649e3432885bf73b81dfadd9912399e82473d7b84854'), HexBytes('0x5ad2560cfe76548d96f0c2f25bb876023564349df483f3273d5027c38775ec5c'), HexBytes('0x196d14350fea594f60bae8a34a316c03dd4be87da05656c1c34c5e51a5e9a07e'), HexBytes('0x97356111bee463b2a2d703ea8fb1464695762de888aed3980bfa310c626a66d9'), HexBytes('0x66bd835f95fb7b60e09f9d7e3232fe88f453e668e34b7633533a0ef176542ba6'), HexBytes('0xaca10c13edec1456b239a82afc9462748fdd91dce0b9299b8084baa10ea39c26'), HexBytes('0x9d662181cdde9979b12bff9ae90384fd2b2168e18e2f50fceb95b2ac9ed08373'), HexBytes('0x2e3b152d86c58dbf2a5bebcc9eb3a6fd7759d0a120189f629e6540227b1ab998'), HexBytes('0x26438898a443bfc4a918fecec2c0a05528733cba845c96a9fb4ffce8a0968bb8'), HexBytes('0xb93904fad7a5598eb1eb6ded7143c301992f8e2883770ed1f0478a4c436371e3'), HexBytes('0x6af5912331d6bf11f560053644787ddefe944ee859023a9d284fba3c4863462b'), HexBytes('0x12a903bd90cc8d4665069076ba70137fd070fa4547c4d180ff03377cfa2ca134'), HexBytes('0xe11aa251c31d1d2ad5db0d9bd6c96ba7090130cd914a5434f96954584aeb3301'), HexBytes('0x299120b9edebfa2bad3be100688924126add686cf5372a4a05b204d1921fd220'), HexBytes('0x5aedeb8966427390ca8cc3d38c542e0ca67e4098dd3bed64c06f363315f27da8'), HexBytes('0xcc6e216480d68993d30310131a94f9744f331129d926dd540db844fa3c1e0c4e'), HexBytes('0x0f8e619384228cf29dfba381af721c1494c648f3f7da37169b54cdf49b24b9c8'), HexBytes('0x424f130612053ac159f0d75498184f8697437bbcf22faa50244b81a42c0272fb'), HexBytes('0x7b9cfd9fed9026c208b4b9ab47a60d751f8d7402cfbb07600e13998b0a3430f3'), HexBytes('0x90502eeed654b464817039e5f12fa1244e50bfc821a228f0759709c694ae6a3d'), HexBytes('0x09cc9b2925b888a03b658ae96e2832164ba3e4eeda76c8de335093e1ef908ed1'), HexBytes('0x5d963fd59bf54390e8dbe2ba29513eb816ff3d322e04170487001ea92d8f0967'), HexBytes('0x1d6afe3fd238cad10d31c94715c66d6c3411d5d05e188feade9ec32d0f9f987d'), HexBytes('0x554e01cb226a32ef57de9f45aece1828802d4dc3066425e7940805126f889d24'), HexBytes('0xb5c5269bd05cd6d05a8a24673e5f8b9d6b7f2933e78f3754052468cbaa7ab648'), HexBytes('0x4e1215a72fc3b395309bde0e42357bc6c7240af760e86ddca8523096568f8bcc'), HexBytes('0xec0faa481a5747671bb54fd11bc1bfc558b1fabf3a28791a063ab0984b090d27'), HexBytes('0x5cbea61fb34708a4c5b4144c2ccc283dcf4a7612791b75b5dcb5cc9254e755d5'), HexBytes('0x838d3f13f4d49230f3857b625d2b10ce873534045ca43350daede4d6829093f4'), HexBytes('0x6cc884c05e22fd5d663fc178d92fbfee0f4b1c33c02c2d061c1916ebffbbf6a6'), HexBytes('0x1e7c9676cfe9d172f8cf443926eb1b21b5e1b100159c56f95996c3a8c6d39064'), HexBytes('0x87bdd30d02e76f3b0e7ee968e2c8e8f60cae5e74f9a40bae410a1a2b96a6350a'), HexBytes('0x161dda50271aa214784a7e8ae49fbaef4e955ed6e83182108e240c0fb026f9a4'), HexBytes('0xac07b5f1959476caa26f0de17566567b50390f996c8629ba80b0a710dfd0b971'), HexBytes('0x82547baef107a2a1dcc7bdd00008a6f08269686e4440eee62ac654285c53b04f'), HexBytes('0xd12f85f08c71dd517c501639f32801e195fe820500ad7480daa1259abc185bd3'), HexBytes('0x7ff0962618b61e9c230e016cd88f45f1ef980468e5d65049c7e8b9cab4980518'), HexBytes('0xca036d697b1ed7a7316ce12027f64b2357091c1e40dfacfe406c2992a6dad010'), HexBytes('0x4e7a55318118c51be9406d0e1ff279286f88bd077c4ce2d23a312ea32d709bb0'), HexBytes('0x161a24214773b6a17f7b4a4a20459852a30756357bfc5951b2694d71a47e2611'), HexBytes('0x5e06b79a7030b0c3a0369c4928091e52bb2546ead856c5c7fc2b42b2b59db5e6'), HexBytes('0xd26a0ffa81764b0155430fdf6e6d486451e0c582aeedce6e6907d37e09abfd5f'), HexBytes('0x6657096ed4a4ff8da105c87746cfac82addbc5c83f954181057827cf720897c2'), HexBytes('0xe982d3a39b6feeeb121340dc16ab1ed785a83c587ae2e4d5a323e8a71884504e'), HexBytes('0x5ed3826a92eb30d6d4094554d0918e089c272a8130428ebe4bca6a2a97527be7'), HexBytes('0x02e36b691448fb12d31c7ddf0822869e602b0050ef3b399c6762bdc4ccbd3bc2'), HexBytes('0x969bd34f19a538beb41f9d405d5129eb7e92d403ef78007f42166e0113e763e5'), HexBytes('0x1aa9a562369feb1887b72aaa6c7e2cd6bfebba5a4181a51ecdb4dac5fe582fb7'), HexBytes('0x2b9e13e3bc1db402dfbad2c4379851151e12754f77fb1118e52ea5a73769358e'), HexBytes('0x83d21ce4c3b9c91903a0fe167c24dc39ac86614e329420cb929836db9403d689'), HexBytes('0x7c88218ccf5bae5e2440bbe75dc03ea7ed05c2fe7abd5e03b1b3b7ea22623b19'), HexBytes('0x15a3b2b934352c5281a0e5991749bec6b92a604abf9483d117f3ecc39957a806'), HexBytes('0xf2e0c8363348c2baa5f1c4ab723d868ed9a2d59fb903a332170175c1ed789db0'), HexBytes('0xa8fd26cfd918f962ad30511358f620c0a28a24ba1683e66a6dfe32147a88bc19'), HexBytes('0x96a1e6210b2d6dc9991dceaa08d7c10f7316eab0cb3b55fe69341b288eedc6c6'), HexBytes('0x6a794b36adc9a883156f02f3f5855780347c22546c1fdef2b02096f544e48d7b'), HexBytes('0x4aa37bbfe8baa4ee758f973ef8632d3a688bc5ffb957d8d91507fef7c9476c8d'), HexBytes('0x78ebf30d3105cf63ae342ceb86b6a9ceb065056ebf676dff24e7046e33cfbbc0'), HexBytes('0x1f330d861ef0108d24e2ea192c17a200b0b4bb0387bb19348c6ced43651ae736'), HexBytes('0x26092761d59f5ae2d8c51b6a9d2b65ef6232d8474c4cc764ba94bbe3dbf97604'), HexBytes('0x6a8407bd80a0bd2111b6f17edbb4e2f084b654c23a2c566bdba00416ee15a75f'), HexBytes('0xaf3413baecea5e62cc46e2466cb1469117b9f7a8278170006523f8f8a9b45ea1'), HexBytes('0x8c964e777dd838a5bdd893e396e4e23a5c70c1121e8a4db645a5f9c90d406014'), HexBytes('0x2dae54cb65fb41a20d4ad4e90957e9f72546e3e86f0bcdab21f488656105894e'), HexBytes('0x528f61e395d8fa3d602ac2836394b33689436a6efe946e7a6fe5039ce56213bb'), HexBytes('0xce99c8ad3fa460f15bf7546c98e2e8084fa09506142f1171931e25b5a66d8032'), HexBytes('0xfdfa9f2dbde3d4952e143f4464597858bd4b397558b85f56a0e174e075b2306a'), HexBytes('0xb7ecdd9d290e22fe38c577ee84487ff4efc4a91d508d07a52b265014db26df59'), HexBytes('0x32fc9aa01636d5cff82a0e97faf51e3133410cdbbaf3b805c34b0f7bfd77f023'), HexBytes('0x3337a6b175327698cc89e238386418d930ba9f0659e1927845a7050e258ec62e'), HexBytes('0x9e322e71005dd4f0fd119c81c0c4197ae4b2ed21ccf593027476edf4cb522dae'), HexBytes('0xe270e834b6d09379608ced55439cfb89d65bc12e2b83020ffe0f1104947e37df'), HexBytes('0xf63ad921fb16c37af5ff46fa5db0994bf49c6f8611e1d328f22c33c25ff33a51'), HexBytes('0x298f05f01a8bb0707061c186fee42b1ad1798bb2af9191e14b1dae0ca2c21aef'), HexBytes('0x4556bc048c7b21f78110c0f3f5f622c1fdabaecdbaf2b35e6a5bdbf3c4141990'), HexBytes('0x121d192542c51fb50ff9388a1b3a604ed172910fe4052936e51ad401789728c4'), HexBytes('0x049f429e31040588daeff451bedfeed0c37f1e8c9da1995c1f38a8904ebc8e79'), HexBytes('0x84ddf628e58b65f4a246754ad9a64506c5fef41c9b8929edf08d814c2d8d62fe'), HexBytes('0x82003696fe7ea20d5e44fe14f57505ba3bc636a8b4d57bee4b1d9a84857e52f9'), HexBytes('0x1c27ad7afac828568d22a096eaf610959520f03e0a25c637b643553efe5af31d'), HexBytes('0x54dd8c4dc75cf92115331fa70dc0697e9f9a6eb72eaa08c2bf00b6be5733c454'), HexBytes('0x114c41b39583b8bc9c1a70070127963bc28d0a110a995623644810f4a1adb3c3'), HexBytes('0x6dd75dd55675f3301737c2cb52884796e566549e77f63f7347912b03ee9e79f3'), HexBytes('0x757054d09d319a0b9cbbe055e43835dbf2b965623890b289c68da1d6dbcc1d16'), HexBytes('0xbe9d8171c72bcaa1c628a06e665034ce7db684ad04c898aed77fb6aabc75dda8'), HexBytes('0x4459341da41f8f4f5ed6e2bce0d85b4f1d495fa0d71cc52fb6d401adfa9be9bc'), HexBytes('0x82254a9dfb19bbfede4691d6f4f305c06a541cf89dd085deb1c0e615812ed32d'), HexBytes('0xdb64c02e1b22fd9637cdf3c3cc04434801b8f0d84268cc164f9145ff6fb0dbe3')], 'transactionsRoot': HexBytes('0xe0241a2637ef87b560e5c9b80a9558e9390bdf71755144f6ca592b689951f548'), 'uncles': []})\n"
     ]
    }
   ],
   "source": [
    "# Get the balance of the test address and convert it to Ether\n",
    "balance = web3.eth.get_balance(test_address)\n",
    "print(\"Balance: \", web3.from_wei(balance, \"ether\"))\n",
    "\n",
    "# Get the latest block\n",
    "latest_block = web3.eth.get_block(\"latest\")\n",
    "print(\"latest block: \", latest_block)"
   ]
  },
  {
   "cell_type": "code",
   "execution_count": 10,
   "metadata": {},
   "outputs": [
    {
     "name": "stdout",
     "output_type": "stream",
     "text": [
      "contract instance:  <web3._utils.datatypes.Contract object at 0x00000228ADF5EF70>\n"
     ]
    }
   ],
   "source": [
    "# Set the contract address and ABI\n",
    "contract_address = '0xd665ce6Ef8AdA72B1CF946A6a71508bDD6D2EE04'\n",
    "\n",
    "abi = '[{\"inputs\":[],\"stateMutability\":\"nonpayable\",\"type\":\"constructor\"},{\"anonymous\":false,\"inputs\":[{\"indexed\":true,\"internalType\":\"address\",\"name\":\"owner\",\"type\":\"address\"},{\"indexed\":true,\"internalType\":\"address\",\"name\":\"spender\",\"type\":\"address\"},{\"indexed\":false,\"internalType\":\"uint256\",\"name\":\"value\",\"type\":\"uint256\"}],\"name\":\"Approval\",\"type\":\"event\"},{\"anonymous\":false,\"inputs\":[{\"indexed\":false,\"internalType\":\"uint256\",\"name\":\"_maxTxAmount\",\"type\":\"uint256\"}],\"name\":\"MaxTxAmountUpdated\",\"type\":\"event\"},{\"anonymous\":false,\"inputs\":[{\"indexed\":true,\"internalType\":\"address\",\"name\":\"previousOwner\",\"type\":\"address\"},{\"indexed\":true,\"internalType\":\"address\",\"name\":\"newOwner\",\"type\":\"address\"}],\"name\":\"OwnershipTransferred\",\"type\":\"event\"},{\"anonymous\":false,\"inputs\":[{\"indexed\":true,\"internalType\":\"address\",\"name\":\"from\",\"type\":\"address\"},{\"indexed\":true,\"internalType\":\"address\",\"name\":\"to\",\"type\":\"address\"},{\"indexed\":false,\"internalType\":\"uint256\",\"name\":\"value\",\"type\":\"uint256\"}],\"name\":\"Transfer\",\"type\":\"event\"},{\"inputs\":[{\"internalType\":\"address\",\"name\":\"owner\",\"type\":\"address\"},{\"internalType\":\"address\",\"name\":\"spender\",\"type\":\"address\"}],\"name\":\"allowance\",\"outputs\":[{\"internalType\":\"uint256\",\"name\":\"\",\"type\":\"uint256\"}],\"stateMutability\":\"view\",\"type\":\"function\"},{\"inputs\":[{\"internalType\":\"address\",\"name\":\"spender\",\"type\":\"address\"},{\"internalType\":\"uint256\",\"name\":\"amount\",\"type\":\"uint256\"}],\"name\":\"approve\",\"outputs\":[{\"internalType\":\"bool\",\"name\":\"\",\"type\":\"bool\"}],\"stateMutability\":\"nonpayable\",\"type\":\"function\"},{\"inputs\":[{\"internalType\":\"address\",\"name\":\"account\",\"type\":\"address\"}],\"name\":\"balanceOf\",\"outputs\":[{\"internalType\":\"uint256\",\"name\":\"\",\"type\":\"uint256\"}],\"stateMutability\":\"view\",\"type\":\"function\"},{\"inputs\":[],\"name\":\"decimals\",\"outputs\":[{\"internalType\":\"uint8\",\"name\":\"\",\"type\":\"uint8\"}],\"stateMutability\":\"pure\",\"type\":\"function\"},{\"inputs\":[{\"internalType\":\"address\",\"name\":\"notbot\",\"type\":\"address\"}],\"name\":\"delBot\",\"outputs\":[],\"stateMutability\":\"nonpayable\",\"type\":\"function\"},{\"inputs\":[],\"name\":\"manualsend\",\"outputs\":[],\"stateMutability\":\"nonpayable\",\"type\":\"function\"},{\"inputs\":[],\"name\":\"manualswap\",\"outputs\":[],\"stateMutability\":\"nonpayable\",\"type\":\"function\"},{\"inputs\":[],\"name\":\"name\",\"outputs\":[{\"internalType\":\"string\",\"name\":\"\",\"type\":\"string\"}],\"stateMutability\":\"pure\",\"type\":\"function\"},{\"inputs\":[],\"name\":\"openTrading\",\"outputs\":[],\"stateMutability\":\"nonpayable\",\"type\":\"function\"},{\"inputs\":[],\"name\":\"owner\",\"outputs\":[{\"internalType\":\"address\",\"name\":\"\",\"type\":\"address\"}],\"stateMutability\":\"view\",\"type\":\"function\"},{\"inputs\":[],\"name\":\"removeStrictTxLimit\",\"outputs\":[],\"stateMutability\":\"nonpayable\",\"type\":\"function\"},{\"inputs\":[],\"name\":\"renounceOwnership\",\"outputs\":[],\"stateMutability\":\"nonpayable\",\"type\":\"function\"},{\"inputs\":[{\"internalType\":\"address[]\",\"name\":\"bots_\",\"type\":\"address[]\"}],\"name\":\"setBots\",\"outputs\":[],\"stateMutability\":\"nonpayable\",\"type\":\"function\"},{\"inputs\":[{\"internalType\":\"bool\",\"name\":\"onoff\",\"type\":\"bool\"}],\"name\":\"setCooldownEnabled\",\"outputs\":[],\"stateMutability\":\"nonpayable\",\"type\":\"function\"},{\"inputs\":[],\"name\":\"symbol\",\"outputs\":[{\"internalType\":\"string\",\"name\":\"\",\"type\":\"string\"}],\"stateMutability\":\"pure\",\"type\":\"function\"},{\"inputs\":[],\"name\":\"totalSupply\",\"outputs\":[{\"internalType\":\"uint256\",\"name\":\"\",\"type\":\"uint256\"}],\"stateMutability\":\"pure\",\"type\":\"function\"},{\"inputs\":[{\"internalType\":\"address\",\"name\":\"recipient\",\"type\":\"address\"},{\"internalType\":\"uint256\",\"name\":\"amount\",\"type\":\"uint256\"}],\"name\":\"transfer\",\"outputs\":[{\"internalType\":\"bool\",\"name\":\"\",\"type\":\"bool\"}],\"stateMutability\":\"nonpayable\",\"type\":\"function\"},{\"inputs\":[{\"internalType\":\"address\",\"name\":\"sender\",\"type\":\"address\"},{\"internalType\":\"address\",\"name\":\"recipient\",\"type\":\"address\"},{\"internalType\":\"uint256\",\"name\":\"amount\",\"type\":\"uint256\"}],\"name\":\"transferFrom\",\"outputs\":[{\"internalType\":\"bool\",\"name\":\"\",\"type\":\"bool\"}],\"stateMutability\":\"nonpayable\",\"type\":\"function\"},{\"stateMutability\":\"payable\",\"type\":\"receive\"}]'\n",
    "\n",
    "# Create an instance of the contract by passing its address and ABI\n",
    "contract_instance = web3.eth.contract(address=contract_address, abi=abi)\n",
    "\n",
    "# Print the contract instance\n",
    "print(\"contract instance: \", contract_instance)\n"
   ]
  },
  {
   "cell_type": "code",
   "execution_count": 11,
   "metadata": {},
   "outputs": [
    {
     "name": "stdout",
     "output_type": "stream",
     "text": [
      "res:  1000000000000000000000\n",
      "symbol:  SHIBACHU\n"
     ]
    }
   ],
   "source": [
    "# Call the totalSupply() function of the contract and store the result in the 'res' variable\n",
    "res = contract_instance.functions.totalSupply().call()\n",
    "\n",
    "# Print the value of 'res'\n",
    "print(\"res: \", res)\n",
    "\n",
    "# Call the symbol() function of the contract and store the result in the 'symbol' variable\n",
    "symbol = contract_instance.functions.symbol().call()\n",
    "\n",
    "# Print the value of 'symbol'\n",
    "print(\"symbol: \", symbol)\n"
   ]
  }
 ],
 "metadata": {
  "kernelspec": {
   "display_name": "Python 3",
   "language": "python",
   "name": "python3"
  },
  "language_info": {
   "codemirror_mode": {
    "name": "ipython",
    "version": 3
   },
   "file_extension": ".py",
   "mimetype": "text/x-python",
   "name": "python",
   "nbconvert_exporter": "python",
   "pygments_lexer": "ipython3",
   "version": "3.9.6"
  },
  "orig_nbformat": 4
 },
 "nbformat": 4,
 "nbformat_minor": 2
}
